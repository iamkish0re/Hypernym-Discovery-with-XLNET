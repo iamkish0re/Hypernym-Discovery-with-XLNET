{
  "nbformat": 4,
  "nbformat_minor": 0,
  "metadata": {
    "colab": {
      "provenance": []
    },
    "kernelspec": {
      "name": "python3",
      "display_name": "Python 3"
    },
    "language_info": {
      "name": "python"
    }
  },
  "cells": [
    {
      "cell_type": "code",
      "execution_count": null,
      "metadata": {
        "id": "UY-iyl7AUSAZ",
        "outputId": "4dbc1e18-b521-4a83-a743-d8fb912799ca",
        "colab": {
          "base_uri": "https://localhost:8080/"
        }
      },
      "outputs": [
        {
          "output_type": "stream",
          "name": "stdout",
          "text": [
            "Mounted at /content/drive\n"
          ]
        }
      ],
      "source": [
        "from google.colab import drive\n",
        "drive.mount('/content/drive')\n",
        "import pandas as pd"
      ]
    },
    {
      "cell_type": "code",
      "source": [
        "project_folder_path=\"/content/drive/MyDrive/SemEval2018-Task9\"\n",
        "data_path=[\"training\",\"test\",\"trial\"]\n",
        "training_data_files=[\"1A.english.data.txt\",\"2A.medical.data.txt\",\"2B.music.data.txt\"]\n",
        "training_gold_files=[\"1A.english.gold.txt\",\"2A.medical.gold.txt\",\"2B.music.gold.txt\"]\n",
        "preprocessed_training_data_folder_path=\"/content/drive/MyDrive/SemEval2018-Task9/preprocessed\""
      ],
      "metadata": {
        "id": "3YFnyu4VbA4a"
      },
      "execution_count": null,
      "outputs": []
    },
    {
      "cell_type": "code",
      "source": [
        "for t in data_path:\n",
        "  for filename in zip(training_data_files,training_gold_files):\n",
        "    data_file_path=project_folder_path+\"/\"+t+\"/data/\"+filename[0]\n",
        "    gold_file_path=project_folder_path+\"/\"+t+\"/gold/\"+filename[1]\n",
        "    print(data_file_path)\n",
        "    input_data=pd.read_csv(data_file_path, header=None)\n",
        "    input_gold = pd.read_csv(gold_file_path,\n",
        "                  header=None)\n",
        "    new_input_data=[]\n",
        "    new_input_gold=[]\n",
        "    for j in range(input_gold.shape[0]):\n",
        "      split_hypernyms=input_gold[0][j].split('\\t')\n",
        "      for h in split_hypernyms:\n",
        "        new_input_data.append(input_data[0][j].split('\\t')[0])\n",
        "        new_input_gold.append(h)\n",
        "    new_input_data_df=pd.DataFrame(new_input_data)\n",
        "    new_input_gold_df=pd.DataFrame(new_input_gold)\n",
        "    print(new_input_data_df.shape)\n",
        "    print(new_input_gold_df.shape)\n",
        "    new_input_data_df.to_csv(preprocessed_training_data_folder_path+\"/\"+t+\"/\"+filename[0],index=False,header=None)\n",
        "    new_input_gold_df.to_csv(preprocessed_training_data_folder_path+\"/\"+t+\"/\"+filename[1],index=False,header=None)"
      ],
      "metadata": {
        "colab": {
          "base_uri": "https://localhost:8080/"
        },
        "id": "h1mWu_3ybFJl",
        "outputId": "434d780d-2f0f-40ed-dab3-53e2f304a8f4"
      },
      "execution_count": null,
      "outputs": [
        {
          "output_type": "stream",
          "name": "stdout",
          "text": [
            "/content/drive/MyDrive/SemEval2018-Task9/training/data/1A.english.data.txt\n",
            "(11779, 1)\n",
            "(11779, 1)\n",
            "/content/drive/MyDrive/SemEval2018-Task9/training/data/2A.medical.data.txt\n",
            "(3256, 1)\n",
            "(3256, 1)\n",
            "/content/drive/MyDrive/SemEval2018-Task9/training/data/2B.music.data.txt\n",
            "(5455, 1)\n",
            "(5455, 1)\n",
            "/content/drive/MyDrive/SemEval2018-Task9/test/data/1A.english.data.txt\n",
            "(7048, 1)\n",
            "(7048, 1)\n",
            "/content/drive/MyDrive/SemEval2018-Task9/test/data/2A.medical.data.txt\n",
            "(4116, 1)\n",
            "(4116, 1)\n",
            "/content/drive/MyDrive/SemEval2018-Task9/test/data/2B.music.data.txt\n",
            "(5233, 1)\n",
            "(5233, 1)\n",
            "/content/drive/MyDrive/SemEval2018-Task9/trial/data/1A.english.data.txt\n",
            "(200, 1)\n",
            "(200, 1)\n",
            "/content/drive/MyDrive/SemEval2018-Task9/trial/data/2A.medical.data.txt\n",
            "(101, 1)\n",
            "(101, 1)\n",
            "/content/drive/MyDrive/SemEval2018-Task9/trial/data/2B.music.data.txt\n",
            "(355, 1)\n",
            "(355, 1)\n"
          ]
        }
      ]
    }
  ]
}